{
 "cells": [
  {
   "cell_type": "code",
   "execution_count": null,
   "metadata": {},
   "outputs": [],
   "source": [
    "import cv2\n",
    "import numpy as np\n",
    "\n",
    "img1=cv2.imread(r\"C:\\Users\\mvpzhangqiu\\Desktop\\1.jpg\")\n",
    "img2=cv2.imread(r\"C:\\Users\\mvpzhangqiu\\Desktop\\2.jpg\")\n",
    "\n",
    "roi=img2[:,:]\n",
    "img3=img1.copy()\n",
    "img1[:roi.shape[0],:roi.shape[1]]=roi\n",
    "\n",
    "cv2.imshow('img', img1)\n",
    "cv2.imshow('roi', roi)\n",
    "cv2.imshow('img2', img1)\n",
    "cv2.waitKey(0)\n",
    "cv2.destroyAllWindows()"
   ]
  }
 ],
 "metadata": {
  "kernelspec": {
   "display_name": "Python 3",
   "language": "python",
   "name": "python3"
  },
  "language_info": {
   "codemirror_mode": {
    "name": "ipython",
    "version": 3
   },
   "file_extension": ".py",
   "mimetype": "text/x-python",
   "name": "python",
   "nbconvert_exporter": "python",
   "pygments_lexer": "ipython3",
   "version": "3.7.0"
  }
 },
 "nbformat": 4,
 "nbformat_minor": 2
}
